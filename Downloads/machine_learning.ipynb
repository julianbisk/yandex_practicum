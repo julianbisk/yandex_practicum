{
  "nbformat": 4,
  "nbformat_minor": 0,
  "metadata": {
    "colab": {
      "provenance": []
    },
    "kernelspec": {
      "name": "python3",
      "display_name": "Python 3"
    },
    "language_info": {
      "name": "python"
    }
  },
  "cells": [
    {
      "cell_type": "markdown",
      "source": [
        "#Первая обученная модель"
      ],
      "metadata": {
        "id": "yTrACxgaac62"
      }
    },
    {
      "cell_type": "markdown",
      "source": [
        "## Обучающий набор данных"
      ],
      "metadata": {
        "id": "0NydCPFWbvFt"
      }
    },
    {
      "cell_type": "markdown",
      "source": [
        "*Модель будет обучаться на обучающей выборке. В машинном обучении в строках записываются объекты а в столбцах признаки, признак, который нужно предсказать - целевой, в нашей задаче целевой признак - last_price*"
      ],
      "metadata": {
        "id": "gfl4kHuqcAf6"
      }
    },
    {
      "cell_type": "markdown",
      "source": [
        "## Обучение с учителем"
      ],
      "metadata": {
        "id": "NDjda8QAcyst"
      }
    },
    {
      "cell_type": "markdown",
      "source": [
        "*Мы имеем обучающий набор данных и целевой признак, который нужно предсказать по остальным признакам - цена продажи жилья. Такие задачи относятся к классу 'Обучение с учителем', учитель ставит вопросы(признаки) и указывает ответы(целевой признак) и ничего не объясняет. Если целевой признак катгориальный, то решается задача классификации, когда категории две - речь идет о бинарной классификации. Если целевой признак количественный, то решается задача регрессии*"
      ],
      "metadata": {
        "id": "3Z9Uopenc12s"
      }
    },
    {
      "cell_type": "markdown",
      "source": [
        "## Классификация и регрессия"
      ],
      "metadata": {
        "id": "VHbf2O-pfBU6"
      }
    },
    {
      "cell_type": "markdown",
      "source": [
        "1.Преобразуйте исходную задачу в задачу классификации. Создайте новый признак price_class (англ. «ценовой класс»). Чтобы установить его значение, сравните цену с 5 650 000:\n",
        "\n",
        "если цена больше, значение price_class — единица, 1.0;\n",
        "\n",
        "если цена меньше или равна, значение price_class — ноль, 0.0.\n",
        "\n",
        "Функция print() выведет на экран первые пять строк."
      ],
      "metadata": {
        "id": "aQq-9M5LfONu"
      }
    },
    {
      "cell_type": "code",
      "execution_count": null,
      "metadata": {
        "colab": {
          "base_uri": "https://localhost:8080/",
          "height": 270
        },
        "id": "VhO99MXvaTTe",
        "outputId": "8a777fd5-50fc-4ff5-fb09-8d997d27784f"
      },
      "outputs": [
        {
          "output_type": "display_data",
          "data": {
            "text/plain": [
              "   last_price  total_area  rooms  ceiling_height  floors_total  living_area  \\\n",
              "0   5400000.0        59.0      2            2.87           4.0         31.5   \n",
              "1  13200000.0       109.0      4            3.15           5.0         72.0   \n",
              "2   7000000.0        74.5      3            2.58          10.0         49.0   \n",
              "3   3200000.0        37.4      1            2.50           9.0         20.0   \n",
              "4   6650000.0        64.9      3            2.65          12.0         41.9   \n",
              "\n",
              "   floor  is_apartment  studio  open_plan  kitchen_area  balcony  \\\n",
              "0      2           0.0     0.0        0.0           6.6      0.0   \n",
              "1      2           0.0     0.0        0.0          12.2      0.0   \n",
              "2      9           0.0     0.0        0.0          10.8      0.0   \n",
              "3      4           0.0     0.0        0.0           6.2      2.0   \n",
              "4     11           0.0     0.0        0.0          10.4      0.0   \n",
              "\n",
              "   airports_nearest  cityCenters_nearest  price_class  \n",
              "0           20485.0               8180.0          0.0  \n",
              "1           42683.0               8643.0          1.0  \n",
              "2           14078.0              16670.0          1.0  \n",
              "3           17792.0              17699.0          0.0  \n",
              "4           14767.0              10573.0          1.0  "
            ],
            "text/html": [
              "\n",
              "  <div id=\"df-54e99d84-7f10-427d-b64a-094887d1d4a5\">\n",
              "    <div class=\"colab-df-container\">\n",
              "      <div>\n",
              "<style scoped>\n",
              "    .dataframe tbody tr th:only-of-type {\n",
              "        vertical-align: middle;\n",
              "    }\n",
              "\n",
              "    .dataframe tbody tr th {\n",
              "        vertical-align: top;\n",
              "    }\n",
              "\n",
              "    .dataframe thead th {\n",
              "        text-align: right;\n",
              "    }\n",
              "</style>\n",
              "<table border=\"1\" class=\"dataframe\">\n",
              "  <thead>\n",
              "    <tr style=\"text-align: right;\">\n",
              "      <th></th>\n",
              "      <th>last_price</th>\n",
              "      <th>total_area</th>\n",
              "      <th>rooms</th>\n",
              "      <th>ceiling_height</th>\n",
              "      <th>floors_total</th>\n",
              "      <th>living_area</th>\n",
              "      <th>floor</th>\n",
              "      <th>is_apartment</th>\n",
              "      <th>studio</th>\n",
              "      <th>open_plan</th>\n",
              "      <th>kitchen_area</th>\n",
              "      <th>balcony</th>\n",
              "      <th>airports_nearest</th>\n",
              "      <th>cityCenters_nearest</th>\n",
              "      <th>price_class</th>\n",
              "    </tr>\n",
              "  </thead>\n",
              "  <tbody>\n",
              "    <tr>\n",
              "      <th>0</th>\n",
              "      <td>5400000.0</td>\n",
              "      <td>59.0</td>\n",
              "      <td>2</td>\n",
              "      <td>2.87</td>\n",
              "      <td>4.0</td>\n",
              "      <td>31.5</td>\n",
              "      <td>2</td>\n",
              "      <td>0.0</td>\n",
              "      <td>0.0</td>\n",
              "      <td>0.0</td>\n",
              "      <td>6.6</td>\n",
              "      <td>0.0</td>\n",
              "      <td>20485.0</td>\n",
              "      <td>8180.0</td>\n",
              "      <td>0.0</td>\n",
              "    </tr>\n",
              "    <tr>\n",
              "      <th>1</th>\n",
              "      <td>13200000.0</td>\n",
              "      <td>109.0</td>\n",
              "      <td>4</td>\n",
              "      <td>3.15</td>\n",
              "      <td>5.0</td>\n",
              "      <td>72.0</td>\n",
              "      <td>2</td>\n",
              "      <td>0.0</td>\n",
              "      <td>0.0</td>\n",
              "      <td>0.0</td>\n",
              "      <td>12.2</td>\n",
              "      <td>0.0</td>\n",
              "      <td>42683.0</td>\n",
              "      <td>8643.0</td>\n",
              "      <td>1.0</td>\n",
              "    </tr>\n",
              "    <tr>\n",
              "      <th>2</th>\n",
              "      <td>7000000.0</td>\n",
              "      <td>74.5</td>\n",
              "      <td>3</td>\n",
              "      <td>2.58</td>\n",
              "      <td>10.0</td>\n",
              "      <td>49.0</td>\n",
              "      <td>9</td>\n",
              "      <td>0.0</td>\n",
              "      <td>0.0</td>\n",
              "      <td>0.0</td>\n",
              "      <td>10.8</td>\n",
              "      <td>0.0</td>\n",
              "      <td>14078.0</td>\n",
              "      <td>16670.0</td>\n",
              "      <td>1.0</td>\n",
              "    </tr>\n",
              "    <tr>\n",
              "      <th>3</th>\n",
              "      <td>3200000.0</td>\n",
              "      <td>37.4</td>\n",
              "      <td>1</td>\n",
              "      <td>2.50</td>\n",
              "      <td>9.0</td>\n",
              "      <td>20.0</td>\n",
              "      <td>4</td>\n",
              "      <td>0.0</td>\n",
              "      <td>0.0</td>\n",
              "      <td>0.0</td>\n",
              "      <td>6.2</td>\n",
              "      <td>2.0</td>\n",
              "      <td>17792.0</td>\n",
              "      <td>17699.0</td>\n",
              "      <td>0.0</td>\n",
              "    </tr>\n",
              "    <tr>\n",
              "      <th>4</th>\n",
              "      <td>6650000.0</td>\n",
              "      <td>64.9</td>\n",
              "      <td>3</td>\n",
              "      <td>2.65</td>\n",
              "      <td>12.0</td>\n",
              "      <td>41.9</td>\n",
              "      <td>11</td>\n",
              "      <td>0.0</td>\n",
              "      <td>0.0</td>\n",
              "      <td>0.0</td>\n",
              "      <td>10.4</td>\n",
              "      <td>0.0</td>\n",
              "      <td>14767.0</td>\n",
              "      <td>10573.0</td>\n",
              "      <td>1.0</td>\n",
              "    </tr>\n",
              "  </tbody>\n",
              "</table>\n",
              "</div>\n",
              "      <button class=\"colab-df-convert\" onclick=\"convertToInteractive('df-54e99d84-7f10-427d-b64a-094887d1d4a5')\"\n",
              "              title=\"Convert this dataframe to an interactive table.\"\n",
              "              style=\"display:none;\">\n",
              "        \n",
              "  <svg xmlns=\"http://www.w3.org/2000/svg\" height=\"24px\"viewBox=\"0 0 24 24\"\n",
              "       width=\"24px\">\n",
              "    <path d=\"M0 0h24v24H0V0z\" fill=\"none\"/>\n",
              "    <path d=\"M18.56 5.44l.94 2.06.94-2.06 2.06-.94-2.06-.94-.94-2.06-.94 2.06-2.06.94zm-11 1L8.5 8.5l.94-2.06 2.06-.94-2.06-.94L8.5 2.5l-.94 2.06-2.06.94zm10 10l.94 2.06.94-2.06 2.06-.94-2.06-.94-.94-2.06-.94 2.06-2.06.94z\"/><path d=\"M17.41 7.96l-1.37-1.37c-.4-.4-.92-.59-1.43-.59-.52 0-1.04.2-1.43.59L10.3 9.45l-7.72 7.72c-.78.78-.78 2.05 0 2.83L4 21.41c.39.39.9.59 1.41.59.51 0 1.02-.2 1.41-.59l7.78-7.78 2.81-2.81c.8-.78.8-2.07 0-2.86zM5.41 20L4 18.59l7.72-7.72 1.47 1.35L5.41 20z\"/>\n",
              "  </svg>\n",
              "      </button>\n",
              "      \n",
              "  <style>\n",
              "    .colab-df-container {\n",
              "      display:flex;\n",
              "      flex-wrap:wrap;\n",
              "      gap: 12px;\n",
              "    }\n",
              "\n",
              "    .colab-df-convert {\n",
              "      background-color: #E8F0FE;\n",
              "      border: none;\n",
              "      border-radius: 50%;\n",
              "      cursor: pointer;\n",
              "      display: none;\n",
              "      fill: #1967D2;\n",
              "      height: 32px;\n",
              "      padding: 0 0 0 0;\n",
              "      width: 32px;\n",
              "    }\n",
              "\n",
              "    .colab-df-convert:hover {\n",
              "      background-color: #E2EBFA;\n",
              "      box-shadow: 0px 1px 2px rgba(60, 64, 67, 0.3), 0px 1px 3px 1px rgba(60, 64, 67, 0.15);\n",
              "      fill: #174EA6;\n",
              "    }\n",
              "\n",
              "    [theme=dark] .colab-df-convert {\n",
              "      background-color: #3B4455;\n",
              "      fill: #D2E3FC;\n",
              "    }\n",
              "\n",
              "    [theme=dark] .colab-df-convert:hover {\n",
              "      background-color: #434B5C;\n",
              "      box-shadow: 0px 1px 3px 1px rgba(0, 0, 0, 0.15);\n",
              "      filter: drop-shadow(0px 1px 2px rgba(0, 0, 0, 0.3));\n",
              "      fill: #FFFFFF;\n",
              "    }\n",
              "  </style>\n",
              "\n",
              "      <script>\n",
              "        const buttonEl =\n",
              "          document.querySelector('#df-54e99d84-7f10-427d-b64a-094887d1d4a5 button.colab-df-convert');\n",
              "        buttonEl.style.display =\n",
              "          google.colab.kernel.accessAllowed ? 'block' : 'none';\n",
              "\n",
              "        async function convertToInteractive(key) {\n",
              "          const element = document.querySelector('#df-54e99d84-7f10-427d-b64a-094887d1d4a5');\n",
              "          const dataTable =\n",
              "            await google.colab.kernel.invokeFunction('convertToInteractive',\n",
              "                                                     [key], {});\n",
              "          if (!dataTable) return;\n",
              "\n",
              "          const docLinkHtml = 'Like what you see? Visit the ' +\n",
              "            '<a target=\"_blank\" href=https://colab.research.google.com/notebooks/data_table.ipynb>data table notebook</a>'\n",
              "            + ' to learn more about interactive tables.';\n",
              "          element.innerHTML = '';\n",
              "          dataTable['output_type'] = 'display_data';\n",
              "          await google.colab.output.renderOutput(dataTable, element);\n",
              "          const docLink = document.createElement('div');\n",
              "          docLink.innerHTML = docLinkHtml;\n",
              "          element.appendChild(docLink);\n",
              "        }\n",
              "      </script>\n",
              "    </div>\n",
              "  </div>\n",
              "  "
            ]
          },
          "metadata": {}
        }
      ],
      "source": [
        "import pandas as pd\n",
        "\n",
        "df = pd.read_csv('train_data.csv')\n",
        "\n",
        "df.loc[df['last_price'] > 5_650_000, 'price_class'] = 1\n",
        "df.loc[df['last_price'] <= 5_650_000, 'price_class'] = 0\n",
        "\n",
        "display(df.head())"
      ]
    },
    {
      "cell_type": "markdown",
      "source": [
        "2.Многие библиотеки машинного обучения требуют, чтобы признаки были сохранены в отдельных переменных. Объявите две переменные:\n",
        "\n",
        "features (англ. «признаки») — запишите в неё признаки;\n",
        "\n",
        "target (англ. «цель») — целевой признак.\n",
        "\n",
        "Выведите на экран размеры этих переменных (уже в прекоде)."
      ],
      "metadata": {
        "id": "Pv4qBHTPgpF0"
      }
    },
    {
      "cell_type": "code",
      "source": [
        "features = df.drop(['last_price', 'price_class'], axis=1)\n",
        "target = df['price_class']"
      ],
      "metadata": {
        "id": "ow3lH6K6gyTD"
      },
      "execution_count": null,
      "outputs": []
    },
    {
      "cell_type": "markdown",
      "source": [
        "## Модели и алгоритмы"
      ],
      "metadata": {
        "id": "lH_ZyUPjhY6J"
      }
    },
    {
      "cell_type": "markdown",
      "source": [
        "## Библиотека scikit-learn"
      ],
      "metadata": {
        "id": "x_hSbp3rjl5a"
      }
    },
    {
      "cell_type": "markdown",
      "source": [
        "1.\n",
        "Начните с обучения модели. В пятом уроке вы сохранили обучающий набор данных в переменных features и target. Чтобы запустить обучение, вызовите метод fit() (англ. «подогнать») и передайте ему как параметр данные.\n",
        "\n",
        "model.fit(features, target)\n",
        "\n",
        "Допишите код. Выведите значение переменной на экран (уже сделано в прекоде)."
      ],
      "metadata": {
        "id": "ySZCmHZphcFX"
      }
    },
    {
      "cell_type": "code",
      "source": [
        "from sklearn.tree import DecisionTreeClassifier\n",
        "model = DecisionTreeClassifier()\n",
        "\n",
        "model.fit(features, target)\n",
        "print(model)"
      ],
      "metadata": {
        "colab": {
          "base_uri": "https://localhost:8080/"
        },
        "id": "4B5vOcuShbSu",
        "outputId": "f7f483b7-9f26-48fb-b0b0-286664e99c5a"
      },
      "execution_count": null,
      "outputs": [
        {
          "output_type": "stream",
          "name": "stdout",
          "text": [
            "DecisionTreeClassifier()\n"
          ]
        }
      ]
    },
    {
      "cell_type": "markdown",
      "source": [
        "2.\n",
        "Теперь в переменной model полноценная модель. Чтобы предсказать ответы, нужно вызвать метод predict() (англ. «предсказать») и передать ему таблицу с признаками новых объектов.\n",
        "\n",
        "answers = model.predict(new_features) \n",
        "\n",
        "Создайте два новых объекта и посмотрите на результаты предсказаний. Объекты задачи — это дома. Выпишите значения признаков каждого:\n",
        "\n",
        "В первой квартире целых 12 комнат общей площадью 900 кв. м. Из них жилых 409.7 кв. м, а кухня — 112 кв. м.\n",
        "\n",
        "Во второй квартире 2 комнаты общей площадью 109 кв. м. Из них жилых 32 кв. м, а кухня — 40.5 кв. м.\n",
        "\n",
        "Остальные признаки не различаются или разнятся не так сильно. Их мы уже заполнили в прекоде. Предскажите ответ и напечатайте результат на экране."
      ],
      "metadata": {
        "id": "TbZmRkUlkYHB"
      }
    },
    {
      "cell_type": "code",
      "source": [
        "new_features = pd.DataFrame(\n",
        "    [[None, None, 2.8, 25, None, 25, 0, 0, 0, None, 0, 30706.0, 7877.0],\n",
        "     [None, None, 2.75, 25, None, 25, 0, 0, 0, None, 0, 36421.0, 9176.0]],\n",
        "    columns=features.columns)\n",
        "\n",
        "new_features.loc[0, 'total_area'] = 900.0\n",
        "new_features.loc[0, 'rooms'] = 12\n",
        "new_features.loc[0, 'living_area'] = 409.7\n",
        "new_features.loc[0, 'kitchen_area'] = 112\n",
        "new_features.loc[1, 'total_area'] = 109\n",
        "new_features.loc[1, 'rooms'] = 2\n",
        "new_features.loc[1, 'living_area'] = 32\n",
        "new_features.loc[1, 'kitchen_area'] = 40.5\n",
        "\n",
        "answers = model.predict(new_features)\n",
        "display(answers)"
      ],
      "metadata": {
        "colab": {
          "base_uri": "https://localhost:8080/",
          "height": 34
        },
        "id": "s0Nh3DhVkffh",
        "outputId": "851cab78-3f1f-4048-e061-dea84cfec129"
      },
      "execution_count": null,
      "outputs": [
        {
          "output_type": "display_data",
          "data": {
            "text/plain": [
              "array([1., 0.])"
            ]
          },
          "metadata": {}
        }
      ]
    },
    {
      "cell_type": "markdown",
      "source": [
        "*features, target -> from sklearn.tree import DecisionTreeClassifier -> model=DecisionTreeClassifier() -> model.fit(features, target) -> answers=model.predict(new_features)*"
      ],
      "metadata": {
        "id": "6lFsUKGymoaJ"
      }
    },
    {
      "cell_type": "markdown",
      "source": [
        "# Качество модели"
      ],
      "metadata": {
        "id": "UxKxfRaxnZ1w"
      }
    },
    {
      "cell_type": "code",
      "source": [
        "model = DecisionTreeClassifier(random_state=12345)"
      ],
      "metadata": {
        "id": "325PaL90nB0t"
      },
      "execution_count": null,
      "outputs": []
    }
  ]
}